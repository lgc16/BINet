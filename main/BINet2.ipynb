{
 "cells": [
  {
   "cell_type": "markdown",
   "metadata": {},
   "source": [
    "### This program corresponds to the third experiment in the article, which is used to solve the Helmholtz equation on the bounded domain with a smooth boundary"
   ]
  },
  {
   "cell_type": "code",
   "execution_count": 2,
   "metadata": {},
   "outputs": [
    {
     "data": {
      "text/plain": [
       "<module 'Training' from './Models\\\\Training.py'>"
      ]
     },
     "execution_count": 2,
     "metadata": {},
     "output_type": "execute_result"
    }
   ],
   "source": [
    "import numpy as np\n",
    "import matplotlib.pyplot as plt\n",
    "import torch\n",
    "import torch.nn as nn\n",
    "import scipy.special as scp\n",
    "from torch.autograd import Variable as v\n",
    "import time\n",
    "import math\n",
    "\n",
    "import sys\n",
    "sys.path.append('../Models')\n",
    "sys.path.append('../Utils')\n",
    "import importlib\n",
    "\n",
    "\n",
    "\n",
    "import Network as Nw\n",
    "import BoundaryCondition as Bdc\n",
    "import Loss_functions as lf\n",
    "import DomainSetting as Ds\n",
    "import GenerateIntegralMatrix as IM\n",
    "import Training as Tn\n"
   ]
  },
  {
   "cell_type": "code",
   "execution_count": 168,
   "metadata": {},
   "outputs": [],
   "source": [
    "# Set problem domain and boundary condition\n",
    "# Generate integral points on boundary and the integral matrix of the fundamental solution \n",
    "\n",
    "# k                         The wavenumber\n",
    "# sample_num                The number of the sample points in boundary\n",
    "# sample_x                  The coordinate of the sample points in boundary\n",
    "# sample_u_r, sample_u_i    The boundary condition\n",
    "# rprime                    The tangent vectors of sample points with parametric equation in boundary\n",
    "# normal                     The exterior normal of the sample points in boundary\n",
    "\n",
    "example = 'ex3-2'\n",
    "if example == 'ex3-2':\n",
    "    domain_type = 'smoothdomain'\n",
    "    problem_type ='Helmholtz4'\n",
    "    layer = 1\n",
    "    sample_num = 800\n",
    "    sample_x, normal, rprime = Ds.petaldomain(sample_num)\n",
    "    sample_u_r, sample_u_i = Bdc.exact_sol(sample_x[:,0],sample_x[:,1],example)\n",
    "\n",
    "G1_r , G1_i= IM.G_bd(domain_type,problem_type,layer,sample_x,rprime,normal)\n",
    "\n",
    "net1 = Nw.MLP(40,2,2)\n",
    "loss_func = lf.Helmholtz_loss()\n",
    "optimizer = torch.optim.Adam(net1.parameters(net1),lr=0.0001)\n"
   ]
  },
  {
   "cell_type": "code",
   "execution_count": 169,
   "metadata": {},
   "outputs": [
    {
     "name": "stdout",
     "output_type": "stream",
     "text": [
      "loss, epoch, computation time: 1.007797 0 0.0200\n",
      "loss, epoch, computation time: 0.015692 1000 19.9245\n",
      "loss, epoch, computation time: 0.001264 2000 22.5700\n",
      "loss, epoch, computation time: 0.000174 3000 18.4274\n",
      "loss, epoch, computation time: 0.000067 4000 15.5372\n",
      "loss, epoch, computation time: 0.000042 5000 20.7255\n"
     ]
    }
   ],
   "source": [
    "# Training\n",
    "Epoch, each_epoch = 5000, 1000\n",
    "net1,loss_all = Tn.Helmholtz_training(net1,sample_x,sample_u_r,sample_u_i,G1_r,G1_i,loss_func,optimizer,Epoch,each_epoch)"
   ]
  },
  {
   "cell_type": "code",
   "execution_count": 170,
   "metadata": {},
   "outputs": [],
   "source": [
    "# Randomly generate points x_in in the problem domain and the corresponding exact solution\n",
    "sample = 1000\n",
    "theta_in = torch.rand(sample,1)*2*np.pi\n",
    "r_in = torch.rand(sample,1).sqrt()*(9/20-1/9*torch.cos(5*theta_in))*0.99\n",
    "x_in = torch.cat((torch.cos(theta_in), torch.sin(theta_in)),1)*r_in \n",
    "\n",
    "u_in_r, u_in_i = Bdc.exact_sol(x_in[:,0],x_in[:,1],example)"
   ]
  },
  {
   "cell_type": "code",
   "execution_count": 171,
   "metadata": {},
   "outputs": [
    {
     "name": "stdout",
     "output_type": "stream",
     "text": [
      "Relaive L2 error: 0.0075\n"
     ]
    }
   ],
   "source": [
    "# Generate integral matrix of points x_in and calculate the relative L2 errir \n",
    "G1_in_r,G1_in_i = IM.G_in(problem_type,layer,x_in,sample_x,rprime,normal)\n",
    "u_green_r , u_green_i = -(G1_in_r@sample_h_r-G1_in_i@sample_h_i) , -(G1_in_r@sample_h_i+G1_in_i@sample_h_r)\n",
    "print('Relaive L2 error:','%.4f'%(((((u_green_r-u_in_r)**2).sum()+((u_green_r-u_in_r)**2).sum())/((u_in_r**2).sum()+(u_in_r**2).sum())).sqrt()))"
   ]
  }
 ],
 "metadata": {
  "kernelspec": {
   "display_name": "Python 3.8.3 ('base')",
   "language": "python",
   "name": "python3"
  },
  "language_info": {
   "codemirror_mode": {
    "name": "ipython",
    "version": 3
   },
   "file_extension": ".py",
   "mimetype": "text/x-python",
   "name": "python",
   "nbconvert_exporter": "python",
   "pygments_lexer": "ipython3",
   "version": "3.8.3"
  },
  "vscode": {
   "interpreter": {
    "hash": "e8613c216b4af5fd5c2e9cd11dd221801936d5d324c1c0228b39e75b086e5cc3"
   }
  }
 },
 "nbformat": 4,
 "nbformat_minor": 4
}
