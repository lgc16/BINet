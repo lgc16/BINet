{
 "cells": [
  {
   "cell_type": "markdown",
   "metadata": {},
   "source": [
    "### This program corresponds to the fourth experiment of article, which solves the exterior problem of Helmholtz equation with different wave numbers"
   ]
  },
  {
   "cell_type": "code",
   "execution_count": 1,
   "metadata": {},
   "outputs": [
    {
     "name": "stdout",
     "output_type": "stream",
     "text": [
      "cpu\n",
      "1.6.0+cu101\n"
     ]
    }
   ],
   "source": [
    "import numpy as np\n",
    "import matplotlib.pyplot as plt\n",
    "import torch\n",
    "import torch.nn as nn\n",
    "import scipy.special as scp\n",
    "from torch.autograd import Variable as v\n",
    "import time\n",
    "import math\n",
    "\n",
    "is_gpu = torch.cuda.is_available()\n",
    "if is_gpu:\n",
    "    id = 0\n",
    "    torch.cuda.set_device(id)\n",
    "    \n",
    "#gpu_nums = torch.cuda.device_count()\n",
    "#gpu_index = torch.cuda.current_device()\n",
    "#print(is_gpu,gpu_nums,gpu_index)\n",
    "device = torch.device('cuda' if is_gpu else 'cpu')\n",
    "\n",
    "device = torch.device('cpu')\n",
    "print(device)\n",
    "torch.set_default_tensor_type('torch.DoubleTensor')\n",
    "print(torch.__version__)\n",
    "\n",
    "import sys\n",
    "sys.path.append('../Models')\n",
    "sys.path.append('../Utils')\n",
    "import Network as Nw\n",
    "import BoundaryCondition as Bdc\n",
    "import Loss_functions as lf\n",
    "import DomainSetting as Ds\n",
    "import GenerateIntegralMatrix as IM\n",
    "import Training as Tn\n",
    "\n"
   ]
  },
  {
   "cell_type": "code",
   "execution_count": 153,
   "metadata": {},
   "outputs": [],
   "source": [
    "# Set problem domain and boundary condition\n",
    "\n",
    "# k                         The set of the wavenumbers\n",
    "# k_num                     The number of the wavenumbers\n",
    "# sample_num                The number of the sample points in boundary\n",
    "# sample_x                  The coordinate of the sample points in boundary\n",
    "# sample_u_r, sample_u_i    The boundary condition\n",
    "# rprime                    The tangent vectors of sample points with parametric equation in boundary\n",
    "# normal                     The exterior normal of the sample points in boundary\n",
    "# sample_xk                 The input of the neural network\n",
    "k_num = 60\n",
    "k = torch.cat((torch.rand(20)*1.5+2,torch.rand(40)*1.5+4.5),0)\n",
    "#torch.Tensor([2.0,4.0]) \n",
    "\n",
    "example = 'ex4-1'\n",
    "if example == 'ex4-1':\n",
    "    domain_type = 'smoothdomain'\n",
    "    problem_type ='Helmholtz'\n",
    "    in_or_out = 'out'\n",
    "    layer = 2\n",
    "    sample_num = 1000\n",
    "    sample_x, normal, rprime = Ds.petaldomain(sample_num)\n",
    "\n",
    "sample_u_r,sample_u_i,sample_xk = Bdc.exact_sol_operator(sample_x,k,example)\n"
   ]
  },
  {
   "cell_type": "code",
   "execution_count": 154,
   "metadata": {},
   "outputs": [],
   "source": [
    "# Generate integral matrix\n",
    "\"\"\"\n",
    "r0 = torch.zeros(sample_num,sample_num)\n",
    "n1 = torch.zeros(sample_num,sample_num)\n",
    "c = torch.zeros(sample_num,sample_num)\n",
    "KaparR2 = torch.ones(sample_num)\n",
    "KaparR2[1],KaparR2[2] =KaparR2[1] + 1.825748064736159, KaparR2[2] - 1.325748064736159\n",
    "j_index = np.array([i for i in range(sample_num)])\n",
    "for i in range(sample_num):\n",
    "    d = sample_x-sample_x[i,:]\n",
    "    r0[i,:] = d.norm(dim=1)\n",
    "    n1[i,:] = (normal*d).sum(axis=1)\n",
    "    c[i,:] = KaparR2[abs((j_index-i+round(sample_num/2))%sample_num-round(sample_num/2))]*((rprime).norm(dim=1))/sample_num*2*np.pi\n",
    "\n",
    "G2_r = torch.zeros(k_num,sample_num,sample_num)\n",
    "G2_i = torch.zeros(k_num,sample_num,sample_num)\n",
    "for l in range(k_num):\n",
    "    G2_r[l,:,:] = scp.hankel1(1,k[l]*r0).imag/4*n1/r0*k[l]*(-c)\n",
    "    G2_i[l,:,:] = -scp.hankel1(1,k[l]*r0).real/4*n1/r0*k[l]*(-c)\n",
    "    G2_r[l,j_index,j_index],G2_i[l,j_index,j_index] = -1/2,0\n",
    "\"\"\"\n",
    "G_r = torch.zeros(k_num,sample_num,sample_num)\n",
    "G_i = torch.zeros(k_num,sample_num,sample_num)\n",
    "for l in range(k_num):\n",
    "    G_r[l],G_i[l] = IM.G_bd(domain_type,problem_type+str(k[l].numpy()),layer,sample_x,rprime,normal,in_or_out)"
   ]
  },
  {
   "cell_type": "code",
   "execution_count": 68,
   "metadata": {},
   "outputs": [],
   "source": [
    "net1 = Nw.ResNet2(100,3,2).to(device)\n",
    "loss_func = lf.Helmholtz_loss()"
   ]
  },
  {
   "cell_type": "code",
   "execution_count": 166,
   "metadata": {},
   "outputs": [
    {
     "name": "stdout",
     "output_type": "stream",
     "text": [
      "loss, epoch, computation time: 5.4377 0 0.7031\n",
      "loss, epoch, computation time: 0.9716 10 6.6103\n",
      "loss, epoch, computation time: 0.7887 20 7.0003\n",
      "loss, epoch, computation time: 0.6571 30 6.5206\n",
      "loss, epoch, computation time: 0.6520 40 6.6512\n",
      "loss, epoch, computation time: 0.6293 50 6.9075\n",
      "loss, epoch, computation time: 0.6251 60 6.9195\n",
      "loss, epoch, computation time: 0.6189 70 6.7769\n",
      "loss, epoch, computation time: 0.6151 80 6.8118\n",
      "loss, epoch, computation time: 0.6122 90 6.9833\n",
      "loss, epoch, computation time: 0.6095 100 6.7260\n",
      "loss, epoch, computation time: 1.0401 0 0.6722\n",
      "loss, epoch, computation time: 0.6177 10 7.1549\n",
      "loss, epoch, computation time: 0.5203 20 7.5438\n",
      "loss, epoch, computation time: 0.5080 30 7.4291\n",
      "loss, epoch, computation time: 0.5057 40 7.1579\n",
      "loss, epoch, computation time: 0.5001 50 7.6037\n",
      "loss, epoch, computation time: 0.4966 60 7.4581\n",
      "loss, epoch, computation time: 0.4946 70 7.6675\n",
      "loss, epoch, computation time: 0.4927 80 8.1203\n",
      "loss, epoch, computation time: 0.4911 90 7.9039\n",
      "loss, epoch, computation time: 0.4896 100 8.3377\n"
     ]
    }
   ],
   "source": [
    "# Training process\n",
    "optimizer = torch.optim.Adam(net1.parameters(net1),lr=0.0005)\n",
    "Epoch, each_epoch = 100, 10\n",
    "for i in range(2):\n",
    "    k = (torch.cat((torch.rand(20)*1.5+2,torch.rand(40)*1.5+4.5),0)).to(device)\n",
    "    sample_u_s,sample_u_i,sample_xk1 = Bdc.exact_sol_operator(sample_x,k,example)\n",
    "    for l in range(k_num):\n",
    "        G_r[l],G_i[l] = IM.G_bd(domain_type,'Helmholtz'+str(k[l].numpy()),layer,sample_x,rprime,normal,in_or_out)\n",
    "    G_r,G_i = G_r.to(device), G_i.to(device)\n",
    "    sample_u_r,sample_u_i,sample_xk1 = sample_u_r.to(device),sample_u_i.to(device),sample_xk1.to(device)\n",
    "    \n",
    "    net1,loss = Tn.Helmholtz_training_operator(net1,k,sample_xk,sample_u_r,sample_u_i,G_r,G_i,loss_func,optimizer,Epoch,each_epoch)\n"
   ]
  },
  {
   "cell_type": "code",
   "execution_count": 172,
   "metadata": {},
   "outputs": [],
   "source": [
    "# Test the accuracy\n",
    "\n",
    "# sample          The number of the sample points in the domain \n",
    "# x_in            The coordinates of the sample points\n",
    "# u_in_r, u_in_i  The exact solution of the sample points\n",
    "# G_in_r, G_in_i  The integral matrix for the points in the domain \n",
    "\n",
    "sample = 10\n",
    "theta_in = torch.rand(sample,1)*2*np.pi\n",
    "r_in = torch.rand(sample,1)*(2-(9/20-1/9*torch.cos(5*theta_in)))+(9/20-1/9*torch.cos(5*theta_in))*1.01\n",
    "x_in = torch.cat((torch.cos(theta_in), torch.sin(theta_in)),1)*r_in \n",
    "\n",
    "rprime = rprime.to(device)\n",
    "normal = normal.to(device)\n",
    "\n",
    "r0_in = (torch.zeros(sample,sample_num,dtype=torch.float32)).to(device)\n",
    "c_in = (torch.zeros(sample,sample_num,dtype=torch.float32)).to(device)\n",
    "for i in range(sample):\n",
    "    for j in range(sample_num):\n",
    "        d = sample_x[j,:]-x_in[i,:]\n",
    "        r0_in[i,j] = d.norm()\n",
    "        c_in[i,j] = (rprime[j,:].norm())/sample_num*2*np.pi*((d*normal[j,:]).sum())/r0_in[i,j]\n",
    "\n",
    "# k_test  The wavenumbers for test error\n",
    "# l2_all  The relative L2 error with different k\n",
    "k_test = 70\n",
    "kx = torch.zeros(k_test+1)\n",
    "l2_all = torch.zeros(k_test+1)\n",
    "for i in range(k_test+1):\n",
    "    k = i/k_test*7+1\n",
    "\n",
    "    u_in_r = (scp.hankel1(0,(k*torch.sqrt((x_in[:,0])**2+x_in[:,1]**2)).cpu()).real).to(device) \n",
    "    u_in_i = (scp.hankel1(0,(k*torch.sqrt((x_in[:,0])**2+x_in[:,1]**2)).cpu()).imag).to(device) \n",
    "\n",
    "    G2_in_r = (scp.hankel1(1,(k*r0_in).cpu()).imag).to(device)/4*c_in*k\n",
    "    G2_in_i = -(scp.hankel1(1,(k*r0_in).cpu()).real).to(device)/4*c_in*k\n",
    "    x_sample_in = (torch.zeros(sample_num,3,dtype=torch.float32)).to(device)\n",
    "    x_sample_in[:,0:2] = sample_x\n",
    "    x_sample_in[:,2] = k\n",
    "    sample_h_r,sample_h_i = net1(x_sample_in)[:,0],net1(x_sample_in)[:,1]\n",
    "\n",
    "    u_green_r = -(G2_in_r@sample_h_r-G2_in_i@sample_h_i)\n",
    "    u_green_i = -(G2_in_r@sample_h_i+G2_in_i@sample_h_r)\n",
    "    kx[i] = k\n",
    "    l2_all[i] = (((u_green_r-u_in_r)**2+(u_green_i-u_in_i)**2).sum()/((u_in_r)**2+(u_in_i)**2).sum()).sqrt()\n"
   ]
  }
 ],
 "metadata": {
  "kernelspec": {
   "display_name": "Python 3.8.3 ('base')",
   "language": "python",
   "name": "python3"
  },
  "language_info": {
   "codemirror_mode": {
    "name": "ipython",
    "version": 3
   },
   "file_extension": ".py",
   "mimetype": "text/x-python",
   "name": "python",
   "nbconvert_exporter": "python",
   "pygments_lexer": "ipython3",
   "version": "3.8.3"
  },
  "vscode": {
   "interpreter": {
    "hash": "e8613c216b4af5fd5c2e9cd11dd221801936d5d324c1c0228b39e75b086e5cc3"
   }
  }
 },
 "nbformat": 4,
 "nbformat_minor": 4
}
