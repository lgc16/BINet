{
 "cells": [
  {
   "cell_type": "markdown",
   "metadata": {},
   "source": [
    "### This program corresponds to the fifth experiment of the article, which solves the Laplace equation problem in different triangular domains"
   ]
  },
  {
   "cell_type": "code",
   "execution_count": 4,
   "metadata": {},
   "outputs": [
    {
     "name": "stdout",
     "output_type": "stream",
     "text": [
      "cpu\n",
      "1.6.0+cu101\n"
     ]
    }
   ],
   "source": [
    "import numpy as np\n",
    "import matplotlib.pyplot as plt\n",
    "import torch\n",
    "import torch.nn as nn\n",
    "from torch.autograd import Variable as v\n",
    "import scipy.special as scp\n",
    "import time\n",
    "\n",
    "is_gpu = torch.cuda.is_available()\n",
    "if is_gpu:\n",
    "    id = 0\n",
    "    torch.cuda.set_device(id)\n",
    "    \n",
    "#gpu_nums = torch.cuda.device_count()\n",
    "#gpu_index = torch.cuda.current_device()\n",
    "#print(is_gpu,gpu_nums,gpu_index)\n",
    "device = torch.device('cuda' if is_gpu else 'cpu')\n",
    "\n",
    "device = torch.device('cpu')\n",
    "print(device)\n",
    "torch.set_default_tensor_type('torch.DoubleTensor')\n",
    "print(torch.__version__)\n",
    "\n",
    "import sys\n",
    "sys.path.append('../Models')\n",
    "sys.path.append('../Utils')\n",
    "\n",
    "import Network as Nw\n",
    "import BoundaryCondition as Bdc\n",
    "import Loss_functions as lf\n",
    "import DomainSetting as Ds\n",
    "import GenerateIntegralMatrix as IM\n",
    "import Training as Tn\n",
    "\n"
   ]
  },
  {
   "cell_type": "code",
   "execution_count": null,
   "metadata": {},
   "outputs": [],
   "source": [
    "# Set problem domain and boundary condition\n",
    "# Generate integral points on boundary and the integral matrix of the fundamental solution \n",
    "\n",
    "# M           Number of samples taken on each edge\n",
    "# sample_tri  Number of samples of triangle\n",
    "# vertex      Vertex coordinates of each triangle\n",
    "M = 60\n",
    "sample_tri = 80\n",
    "line = (torch.linspace(0,1-1/M,M)).reshape(-1,1)\n",
    "\n",
    "vertex_num = 3\n",
    "vertex_sample = torch.rand(sample_tri,3)\n",
    "vertex = torch.zeros(sample_tri,vertex_num,2)\n",
    "for i in range(sample_tri):\n",
    "    vertex[i,1,0] = vertex_sample[i,0]\n",
    "    vertex[i,2,:] = vertex_sample[i,1:3]\n"
   ]
  },
  {
   "cell_type": "code",
   "execution_count": null,
   "metadata": {},
   "outputs": [],
   "source": [
    "# normal      Outer normal vector of each edge\n",
    "# h           Distance between two points on each side\n",
    "# sample_num  Total number of samples\n",
    "# sample_x    Sample point coordinates\n",
    "# sample_u    Boundary condition\n",
    "\n",
    "rot = torch.Tensor([[0,-1],[1,0]])  \n",
    "a0,b0,c0,d0 = 1,1,1,1\n",
    "normal = torch.zeros(sample_tri,vertex_num,2)  \n",
    "h = torch.zeros(sample_tri,vertex_num,1)     \n",
    "for j in range(sample_tri):\n",
    "    for i in range(vertex_num):\n",
    "        normal[j,i,:] = (vertex[j,(i+1)%vertex_num,:]-vertex[j,i,:])@rot\n",
    "        normal[j,i,:] = normal[j,i,:]/(normal[j,i,:].norm())\n",
    "        h[j,i] = (vertex[j,(i+1)%vertex_num,:]-vertex[j,i,:]).norm()/M\n",
    "\n",
    "sample_num = vertex_num*M\n",
    "sample_x = torch.zeros(sample_tri,vertex_num*M,5)\n",
    "for j in range(sample_tri):\n",
    "    for i in range(vertex_num):\n",
    "        sample_x[j,i*M:i*M+M,0:2] = vertex[j,i,:]+(vertex[j,(i+1)%vertex_num,:]-vertex[j,i,:])*line\n",
    "    sample_x[j,:,2:5] = vertex_sample[j,:]\n",
    "sample_u = torch.zeros(sample_tri, sample_num,1)"
   ]
  },
  {
   "cell_type": "code",
   "execution_count": null,
   "metadata": {},
   "outputs": [],
   "source": [
    "# Generate the integral matrix of the fundamental solution \n",
    "G1 = torch.zeros(sample_tri, sample_num,sample_num)\n",
    "d = torch.zeros(sample_num,sample_num)\n",
    "for p in range(sample_tri):\n",
    "    for i in range(sample_num):\n",
    "        for j in range(sample_num):\n",
    "            r = sample_x[p,j,0:2] - sample_x[p,i,0:2]\n",
    "            d[i,j] = r.norm()\n",
    "    G1[p,:,:] = -1/(2*np.pi)*torch.log(d)\n",
    "\n",
    "A1 = torch.zeros(sample_tri, sample_num,sample_num)\n",
    "c = torch.zeros(sample_num,sample_num)\n",
    "for p in range(sample_tri):\n",
    "    for i in range(sample_num):\n",
    "        if (i%M != 0) and (i%M != 1) and (i%M != M-1):\n",
    "            sample_u[p,i] = d0 + b0*sample_x[p,i,0]+c0*sample_x[p,i,1]+a0*sample_x[p,i,0]*sample_x[p,i,1]\n",
    "            for j in range(sample_num):\n",
    "                j0 = int(j/M)\n",
    "                j1 = int((j-1)/M)%vertex_num\n",
    "                c[i,j] = ((h[p,j0]+h[p,j1])/2)\n",
    "            A1[p,i,:]= -c[i,:]*G1[p,i,:]\n",
    "            A1[p,i,i] = 0"
   ]
  },
  {
   "cell_type": "code",
   "execution_count": 5,
   "metadata": {},
   "outputs": [],
   "source": [
    "net1 = Nw.ResNet2(100,5,1).to(device)\n",
    "loss_func = lf.Laplace_loss()\n"
   ]
  },
  {
   "cell_type": "code",
   "execution_count": null,
   "metadata": {},
   "outputs": [],
   "source": [
    "#Training \n",
    "# sample_h    The densitise on sample points\n",
    "\n",
    "optimizer = torch.optim.Adam(net1.parameters(net1),lr=0.0005)\n",
    "Epoch = 1\n",
    "loss_all = np.zeros(Epoch+1)\n",
    "time0 = time.time()\n",
    "\n",
    "for epoch in range(Epoch+1):\n",
    "    loss = 0\n",
    "    if (epoch+1)%500==0:\n",
    "        vertex_sample = (torch.rand(sample_tri,3)).to(device)\n",
    "        for i in range(sample_tri):\n",
    "            vertex[i,1,0] = vertex_sample[i,0]\n",
    "            vertex[i,2,:] = vertex_sample[i,1:3]\n",
    "\n",
    "        for j in range(sample_tri):\n",
    "            for i in range(vertex_num):\n",
    "                h[j,i] = (vertex[j,(i+1)%vertex_num,:]-vertex[j,i,:]).norm()/M\n",
    "\n",
    "        for j in range(sample_tri):\n",
    "            for i in range(vertex_num):\n",
    "                sample_x[j,i*M:i*M+M,0:2] = vertex[j,i,:]+(vertex[j,(i+1)%vertex_num,:]-vertex[j,i,:])*line\n",
    "            sample_x[j,:,2:5] = vertex_sample[j,:]\n",
    "\n",
    "        for p in range(sample_tri):\n",
    "            for i in range(sample_num):\n",
    "                for j in range(sample_num):\n",
    "                    r = sample_x[p,j,0:2] - sample_x[p,i,0:2]\n",
    "                    d[i,j] = r.norm()\n",
    "            G1[p,:,:] = -1/(2*np.pi)*torch.log(d)\n",
    "        for p in range(sample_tri):\n",
    "            for i in range(sample_num):\n",
    "                if (i%M != 0) and (i%M != 1) and (i%M != M-1):\n",
    "                    sample_u[p,i] = d0 + b0*sample_x[p,i,0]+c0*sample_x[p,i,1]+a0*sample_x[p,i,0]*sample_x[p,i,1]\n",
    "                    for j in range(sample_num):\n",
    "                        j0 = int(j/M)\n",
    "                        j1 = int((j-1)/M)%vertex_num\n",
    "                        c[i,j] = ((h[p,j0]+h[p,j1])/2)\n",
    "                    A1[p,i,:] = -c[i,:]*G1[p,i,:]\n",
    "                    A1[p,i,i] = 0\n",
    "            \n",
    "    for i in range(sample_tri):\n",
    "        sample_h= (net1(sample_x[i,:,:])).reshape(-1,1)\n",
    "    \n",
    "        u0 = (A1[i,:,:]@sample_h)\n",
    "        loss = loss + Green_loss_func(sample_u[i,:],u0)\n",
    "    \n",
    "    optimizer.zero_grad()\n",
    "    loss.backward()\n",
    "    optimizer.step()\n",
    "    loss_all[epoch] = loss.detach().numpy() \n",
    "    if epoch%100==0:\n",
    "        print('loss, epoch, computation time:','%.4f'%loss.detach().numpy(),epoch,'%.4f'%(time.time()-time0))\n",
    "        time0 = time.time()\n",
    "\n"
   ]
  },
  {
   "cell_type": "code",
   "execution_count": null,
   "metadata": {},
   "outputs": [],
   "source": [
    "# Test relative L2 error\n",
    "\n",
    "M0 = 80\n",
    "sample_num0 = vertex_num*80\n",
    "line0 = (torch.linspace(0,1-1/M0,M0)).reshape(-1,1)\n",
    "a0,b0,c0 = 0.8, 0.5, 0.6\n",
    "vertex0 = torch.Tensor([[0,0],[a0,0],[b0,c0],[0,0]])\n",
    "sample_x0 = torch.zeros(sample_num0,5)\n",
    "sample_x0[:,2] = a0\n",
    "sample_x0[:,3] = b0\n",
    "sample_x0[:,4] = c0\n",
    "for i in range(vertex_num):\n",
    "    sample_x0[i*M0:i*M0+M0,0:2] = vertex0[i,:]+(vertex0[i+1,:]-vertex0[i,:])*line0\n",
    "\n",
    "h0 = torch.zeros(vertex_num,1)\n",
    "for i in range(vertex_num):\n",
    "    h0[i] = (vertex0[(i+1)%vertex_num,:]-vertex0[i,:]).norm()/M0\n",
    "\n",
    "sample_h0 = (net1(sample_x0)).reshape(-1,1)\n"
   ]
  },
  {
   "cell_type": "code",
   "execution_count": null,
   "metadata": {},
   "outputs": [],
   "source": [
    "sample = 566\n",
    "with open('points.txt','r') as f:\n",
    "    data = f.readlines()\n",
    "u_in = torch.zeros(sample,1)\n",
    "x_in = torch.zeros(sample,2)\n",
    "for i in range(sample):\n",
    "    x_in[i,0] = float((data[i].split())[0])\n",
    "    x_in[i,1] = float((data[i].split())[1])\n",
    "    u_in[i] = d0 + b0*x_in[i,0]+c0*x_in[i,1]+a0*x_in[i,0]*x_in[i,1]\n",
    "\n"
   ]
  },
  {
   "cell_type": "code",
   "execution_count": null,
   "metadata": {},
   "outputs": [],
   "source": [
    "G1_in = torch.zeros(sample,sample_num0)\n",
    "for i in range(sample):\n",
    "    for j in range(sample_num0):\n",
    "        j0 = int(j/M0)\n",
    "        j1 = int((j-1)/M0)%vertex_num\n",
    "        r = sample_x1[j,0:2]-x_in[i,:]\n",
    "        d = r.norm()\n",
    "        G1_in[i,j] = -1/(2*np.pi)*torch.log(d)*(h0[j0]+h0[j1])/2"
   ]
  },
  {
   "cell_type": "code",
   "execution_count": null,
   "metadata": {},
   "outputs": [],
   "source": [
    "u_green = -(G1_in@sample_h0)\n",
    "print((u_green-u_in).norm()/u_in.norm())"
   ]
  }
 ],
 "metadata": {
  "kernelspec": {
   "display_name": "Python 3.8.3 ('base')",
   "language": "python",
   "name": "python3"
  },
  "language_info": {
   "codemirror_mode": {
    "name": "ipython",
    "version": 3
   },
   "file_extension": ".py",
   "mimetype": "text/x-python",
   "name": "python",
   "nbconvert_exporter": "python",
   "pygments_lexer": "ipython3",
   "version": "3.8.3"
  },
  "vscode": {
   "interpreter": {
    "hash": "e8613c216b4af5fd5c2e9cd11dd221801936d5d324c1c0228b39e75b086e5cc3"
   }
  }
 },
 "nbformat": 4,
 "nbformat_minor": 4
}
