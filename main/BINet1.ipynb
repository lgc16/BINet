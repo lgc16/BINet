{
 "cells": [
  {
   "cell_type": "markdown",
   "metadata": {},
   "source": [
    "### This program corresponds to the first and second experiments in the paper and can be used to solve Laplace equations on polygonal domains."
   ]
  },
  {
   "cell_type": "code",
   "execution_count": 1,
   "metadata": {},
   "outputs": [],
   "source": [
    "import numpy as np\n",
    "import matplotlib.pyplot as plt\n",
    "import torch\n",
    "import torch.nn as nn\n",
    "import scipy.special as scp\n",
    "from torch.autograd import Variable as v\n",
    "import time\n",
    "import math\n",
    "\n",
    "import sys\n",
    "sys.path.append('../Models')\n",
    "sys.path.append('../Utils')\n",
    "import importlib\n",
    "\n",
    "import Network as Nw\n",
    "import BoundaryCondition as Bdc\n",
    "import Loss_functions as lf\n",
    "import DomainSetting as Ds\n",
    "import GenerateIntegralMatrix as IM\n",
    "import Training as Tn\n",
    "\n"
   ]
  },
  {
   "cell_type": "code",
   "execution_count": 102,
   "metadata": {},
   "outputs": [],
   "source": [
    "# Set problem domain and boundary condition\n",
    "# Generate integral points on boundary and the integral matrix of the fundamental solution \n",
    "\n",
    "# vertex_num  The number of the edges of the polygon\n",
    "# vertex      Polygon vertices (connected counterclockwise)\n",
    "# M           Number of samples taken on each edge\n",
    "# normal      Outer normal vector of each edge\n",
    "# h           Distance between two points on each side\n",
    "# sample_num  Total number of samples\n",
    "# sample_x    Sample point coordinates\n",
    "# sample_u    Boundary condition\n",
    "\n",
    "example = 'ex1-1'\n",
    "if example == 'ex1-1' or example == 'ex1-2':\n",
    "    \n",
    "    domaintype = 'polygon'\n",
    "    problemtype = 'Laplace'\n",
    "    \n",
    "    vertex = torch.Tensor([[-1,-1],[1,-1],[1,1],[-1,1]])\n",
    "    if example == 'ex1-1':\n",
    "        M = 200\n",
    "    else:\n",
    "        M = 500\n",
    "     \n",
    "sample_x,normal,h = Ds.polygondomain(M,vertex)\n",
    "\n",
    "sample_num, vertex_num = len(sample_x), len(vertex) \n",
    "\n",
    "sample_u = torch.zeros(sample_num,1)\n",
    "for i in range(sample_num):\n",
    "    if (i%M != 0):# and (i%M != 1) and (i%M != M-1):\n",
    "        sample_u[i] = Bdc.exact_sol(sample_x[i,0],sample_x[i,1],example)\n",
    "\n",
    "G = IM.G_bd('polygon','Laplace',2,sample_x,h,normal)"
   ]
  },
  {
   "cell_type": "code",
   "execution_count": 110,
   "metadata": {},
   "outputs": [],
   "source": [
    "# Set neural network, loss fucntion and optimizer\n",
    "# m neurons num in each layer\n",
    "m = 100\n",
    "net1 = Nw.ResNet1(m,2,1) \n",
    "loss_func = lf.Laplace_loss()\n",
    "optimizer = torch.optim.Adam(net1.parameters(net1),lr=0.0001)"
   ]
  },
  {
   "cell_type": "code",
   "execution_count": 122,
   "metadata": {},
   "outputs": [
    {
     "name": "stdout",
     "output_type": "stream",
     "text": [
      "loss, epoch, computation time: 1.130664 0 0.0209\n",
      "loss, epoch, computation time: 0.000325 1000 18.3147\n",
      "loss, epoch, computation time: 0.000230 2000 19.5885\n"
     ]
    }
   ],
   "source": [
    "# Training\n",
    "Epoch, each_epoch = 2000, 1000\n",
    "net1,loss_all = Tn.laplace_training(net1,sample_x,sample_u,G,loss_func,optimizer,Epoch,each_epoch)"
   ]
  },
  {
   "cell_type": "code",
   "execution_count": 123,
   "metadata": {},
   "outputs": [],
   "source": [
    "# Randomly generate points x_in in the problem domain and the corresponding exact solution\n",
    "sample = 1000\n",
    "x_in = (torch.rand(sample,2)*2-1)*0.99\n",
    "u_in = Bdc.exact_sol(x_in[:,0],x_in[:,1],example).reshape(-1,1)"
   ]
  },
  {
   "cell_type": "code",
   "execution_count": 124,
   "metadata": {},
   "outputs": [],
   "source": [
    "# Generate integral matrix of points x_in and calculate the relative L2 errir \n",
    "G_in = IM.G_in('Laplace',2,x_in,sample_x,h,normal)\n",
    "u_predict = G2_in@sample_h\n",
    "print('Relaive L2 error:','%.4f'%((u_green-u_in).norm()/u_in.norm()).detach().numpy())"
   ]
  }
 ],
 "metadata": {
  "kernelspec": {
   "display_name": "Python 3.8.3 ('base')",
   "language": "python",
   "name": "python3"
  },
  "language_info": {
   "codemirror_mode": {
    "name": "ipython",
    "version": 3
   },
   "file_extension": ".py",
   "mimetype": "text/x-python",
   "name": "python",
   "nbconvert_exporter": "python",
   "pygments_lexer": "ipython3",
   "version": "3.8.3"
  },
  "vscode": {
   "interpreter": {
    "hash": "e8613c216b4af5fd5c2e9cd11dd221801936d5d324c1c0228b39e75b086e5cc3"
   }
  }
 },
 "nbformat": 4,
 "nbformat_minor": 4
}
